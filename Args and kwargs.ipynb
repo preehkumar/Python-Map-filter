{
 "cells": [
  {
   "cell_type": "markdown",
   "metadata": {},
   "source": [
    "# *args"
   ]
  },
  {
   "cell_type": "code",
   "execution_count": 5,
   "metadata": {},
   "outputs": [
    {
     "data": {
      "text/plain": [
       "30"
      ]
     },
     "execution_count": 5,
     "metadata": {},
     "output_type": "execute_result"
    }
   ],
   "source": [
    "def myfunc(a,b):\n",
    "    \n",
    "    return a+b\n",
    "\n",
    "myfunc(10,20)"
   ]
  },
  {
   "cell_type": "code",
   "execution_count": 8,
   "metadata": {},
   "outputs": [
    {
     "data": {
      "text/plain": [
       "210"
      ]
     },
     "execution_count": 8,
     "metadata": {},
     "output_type": "execute_result"
    }
   ],
   "source": [
    "def myfunc(*a):\n",
    "    return sum(a)\n",
    "\n",
    "myfunc(10,20,30,40,50,60)\n"
   ]
  },
  {
   "cell_type": "markdown",
   "metadata": {},
   "source": [
    "# kwargs"
   ]
  },
  {
   "cell_type": "code",
   "execution_count": 11,
   "metadata": {},
   "outputs": [
    {
     "name": "stdout",
     "output_type": "stream",
     "text": [
      "My fav fruit is : Apple\n"
     ]
    }
   ],
   "source": [
    "def myKeywordFunc(**kwargs):\n",
    "    if 'fruit' in kwargs:\n",
    "        print(f\"My fav fruit is : {kwargs['fruit']}\")\n",
    "    else:\n",
    "        print (\"I don't like any other fruits\")\n",
    "        \n",
    "myKeywordFunc(fruit='Apple', vaggie='Potato')       "
   ]
  },
  {
   "cell_type": "markdown",
   "metadata": {},
   "source": [
    "# Report Card "
   ]
  },
  {
   "cell_type": "code",
   "execution_count": 19,
   "metadata": {},
   "outputs": [
    {
     "name": "stdout",
     "output_type": "stream",
     "text": [
      " Name: Preethkumar \n",
      " Age: 26 \n",
      " Marks : [10, 20, 30, 40, 50] \n"
     ]
    }
   ],
   "source": [
    "def studentReport(**kwargs):\n",
    "    print(f\" Name: {kwargs['name']} \")\n",
    "    print(f\" Age: {kwargs['age']} \")\n",
    "    print(f\" Marks : {kwargs['marks']} \")\n",
    "       \n",
    "studentReport(name='Preethkumar', age=26, marks=[10,20,30,40,50])"
   ]
  },
  {
   "cell_type": "code",
   "execution_count": null,
   "metadata": {},
   "outputs": [],
   "source": []
  }
 ],
 "metadata": {
  "kernelspec": {
   "display_name": "Python 3",
   "language": "python",
   "name": "python3"
  },
  "language_info": {
   "codemirror_mode": {
    "name": "ipython",
    "version": 3
   },
   "file_extension": ".py",
   "mimetype": "text/x-python",
   "name": "python",
   "nbconvert_exporter": "python",
   "pygments_lexer": "ipython3",
   "version": "3.7.1"
  }
 },
 "nbformat": 4,
 "nbformat_minor": 2
}
